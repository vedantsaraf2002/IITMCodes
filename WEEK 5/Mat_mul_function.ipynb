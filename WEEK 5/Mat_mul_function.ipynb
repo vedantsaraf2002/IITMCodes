{
  "nbformat": 4,
  "nbformat_minor": 0,
  "metadata": {
    "colab": {
      "name": "Mat_mul_function.ipynb",
      "provenance": [],
      "authorship_tag": "ABX9TyPS0IWt4v0a2yku60GZCxwm",
      "include_colab_link": true
    },
    "kernelspec": {
      "name": "python3",
      "display_name": "Python 3"
    },
    "language_info": {
      "name": "python"
    }
  },
  "cells": [
    {
      "cell_type": "markdown",
      "metadata": {
        "id": "view-in-github",
        "colab_type": "text"
      },
      "source": [
        "<a href=\"https://colab.research.google.com/github/vedantsaraf2002/IITMCodes/blob/main/Mat_mul_function.ipynb\" target=\"_parent\"><img src=\"https://colab.research.google.com/assets/colab-badge.svg\" alt=\"Open In Colab\"/></a>"
      ]
    },
    {
      "cell_type": "code",
      "metadata": {
        "colab": {
          "base_uri": "https://localhost:8080/"
        },
        "id": "mtexPsQeQt7p",
        "outputId": "4d67e0ab-ffaa-4998-a199-fcfde5a1049e"
      },
      "source": [
        "def initialize_mat(dim):\n",
        "  C=[]\n",
        "  for i in range(dim):\n",
        "    C.append([])\n",
        "  for i in range(dim):\n",
        "    for j in range(dim):\n",
        "      C[i].append(0)\n",
        "  return C\n",
        "\n",
        "def dot_product(u,v):\n",
        "  dim=len(u)\n",
        "  ans=0\n",
        "  for i in range(dim):\n",
        "    ans += (u[i]*v[i])\n",
        "  return ans\n",
        "\n",
        "def row(M,i):\n",
        "  dim=len(M)\n",
        "  l=[]\n",
        "  for k in range(dim):\n",
        "    l.append(M[i][k])\n",
        "  return l\n",
        "\n",
        "def column(M,j):\n",
        "  dim=len(M)\n",
        "  l=[]\n",
        "  for k in range(dim):\n",
        "    l.append(M[k][j])\n",
        "  return l\n",
        "\n",
        "def mat_mul(A,B):\n",
        "  dim=len(A)\n",
        "  C = initialize_mat(dim)\n",
        "  for i in range(dim):\n",
        "    for j in range(dim):\n",
        "      C[i][j] = dot_product(row(A,i),column(B,j))\n",
        "  return C\n",
        "\n",
        "A = [[1,2,3],[4,5,6],[7,8,9]]\n",
        "B = [[1,2,1],[3,1,7],[6,2,3]]\n",
        "print(mat_mul(A,B))"
      ],
      "execution_count": 10,
      "outputs": [
        {
          "output_type": "stream",
          "text": [
            "[[25, 10, 24], [55, 25, 57], [85, 40, 90]]\n"
          ],
          "name": "stdout"
        }
      ]
    },
    {
      "cell_type": "code",
      "metadata": {
        "id": "PYnTpLgpRlSA"
      },
      "source": [
        ""
      ],
      "execution_count": null,
      "outputs": []
    }
  ]
}
