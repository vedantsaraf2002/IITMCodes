{
  "nbformat": 4,
  "nbformat_minor": 0,
  "metadata": {
    "colab": {
      "name": "WordCount.ipynb",
      "provenance": [],
      "authorship_tag": "ABX9TyOXLLPkyMbRFkSZ7ePyXjIq",
      "include_colab_link": true
    },
    "kernelspec": {
      "name": "python3",
      "display_name": "Python 3"
    },
    "language_info": {
      "name": "python"
    }
  },
  "cells": [
    {
      "cell_type": "markdown",
      "metadata": {
        "id": "view-in-github",
        "colab_type": "text"
      },
      "source": [
        "<a href=\"https://colab.research.google.com/github/vedantsaraf2002/IITMCodes/blob/main/WordCount.ipynb\" target=\"_parent\"><img src=\"https://colab.research.google.com/assets/colab-badge.svg\" alt=\"Open In Colab\"/></a>"
      ]
    },
    {
      "cell_type": "code",
      "metadata": {
        "colab": {
          "base_uri": "https://localhost:8080/"
        },
        "id": "XYIWD7HGKiP8",
        "outputId": "ec9413dc-fe59-4aaa-acd4-a418db92d320"
      },
      "source": [
        "def upper(s):\n",
        "  count =0\n",
        "  for c in s:\n",
        "    if(c.isupper()):\n",
        "      count+=1\n",
        "  return count\n",
        "def lower(s):\n",
        "  count =0\n",
        "  for c in s:\n",
        "    if(c.islower()):\n",
        "      count+=1\n",
        "  return count\n",
        "def character(s):\n",
        "  count = 0\n",
        "  for c in s:\n",
        "    count+=1\n",
        "  return count\n",
        "\n",
        "def word(s):\n",
        "  count = 1\n",
        "  for c in s:\n",
        "    if (c == ' '):\n",
        "      count+=1\n",
        "  return count\n",
        "\n",
        "s= input()\n",
        "print(upper(s))\n",
        "print(lower(s))\n",
        "print(character(s))\n",
        "print(word(s))\n"
      ],
      "execution_count": 2,
      "outputs": [
        {
          "output_type": "stream",
          "text": [
            "This Is A New Test Case\n",
            "6\n",
            "12\n",
            "23\n",
            "6\n"
          ],
          "name": "stdout"
        }
      ]
    },
    {
      "cell_type": "code",
      "metadata": {
        "id": "sXEx7RT8LGX-"
      },
      "source": [
        ""
      ],
      "execution_count": null,
      "outputs": []
    }
  ]
}
