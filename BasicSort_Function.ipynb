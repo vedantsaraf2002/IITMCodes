{
  "nbformat": 4,
  "nbformat_minor": 0,
  "metadata": {
    "colab": {
      "name": "BasicSort_Function.ipynb",
      "provenance": [],
      "authorship_tag": "ABX9TyOO7txRu0cqmSPvPkgBQ6tl",
      "include_colab_link": true
    },
    "kernelspec": {
      "name": "python3",
      "display_name": "Python 3"
    },
    "language_info": {
      "name": "python"
    }
  },
  "cells": [
    {
      "cell_type": "markdown",
      "metadata": {
        "id": "view-in-github",
        "colab_type": "text"
      },
      "source": [
        "<a href=\"https://colab.research.google.com/github/vedantsaraf2002/IITMCodes/blob/main/BasicSort_Function.ipynb\" target=\"_parent\"><img src=\"https://colab.research.google.com/assets/colab-badge.svg\" alt=\"Open In Colab\"/></a>"
      ]
    },
    {
      "cell_type": "code",
      "metadata": {
        "colab": {
          "base_uri": "https://localhost:8080/"
        },
        "id": "yPW7iXIXYu4X",
        "outputId": "4ada5c63-866c-4493-8f53-607be6df9fc8"
      },
      "source": [
        "def mini_list(l):\n",
        "    mini = l[0]\n",
        "    for i in range(len(l)):\n",
        "        if l[i]<mini:\n",
        "            mini=l[i]\n",
        "    return(mini)\n",
        "def obvious_sort(l):\n",
        "  x=[]\n",
        "  while(len(l)>0):\n",
        "   mini= mini_list(l)\n",
        "   x.append(mini)\n",
        "   l.remove(mini)\n",
        "  return x\n",
        "\n",
        "l=[2,3,4,5,1]\n",
        "l= obvious_sort(l)\n",
        "print(l)\n"
      ],
      "execution_count": 3,
      "outputs": [
        {
          "output_type": "stream",
          "text": [
            "[1, 2, 3, 4, 5]\n"
          ],
          "name": "stdout"
        }
      ]
    },
    {
      "cell_type": "code",
      "metadata": {
        "id": "to5qm1TtZGX0"
      },
      "source": [
        ""
      ],
      "execution_count": null,
      "outputs": []
    }
  ]
}