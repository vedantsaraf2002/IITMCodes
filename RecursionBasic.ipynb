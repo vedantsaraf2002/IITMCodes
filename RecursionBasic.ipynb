{
  "nbformat": 4,
  "nbformat_minor": 0,
  "metadata": {
    "colab": {
      "name": "RecursionBasic.ipynb",
      "provenance": [],
      "authorship_tag": "ABX9TyN8Ij4xpMkLjcdtpBdljtug",
      "include_colab_link": true
    },
    "kernelspec": {
      "name": "python3",
      "display_name": "Python 3"
    },
    "language_info": {
      "name": "python"
    }
  },
  "cells": [
    {
      "cell_type": "markdown",
      "metadata": {
        "id": "view-in-github",
        "colab_type": "text"
      },
      "source": [
        "<a href=\"https://colab.research.google.com/github/vedantsaraf2002/IITMCodes/blob/main/RecursionBasic.ipynb\" target=\"_parent\"><img src=\"https://colab.research.google.com/assets/colab-badge.svg\" alt=\"Open In Colab\"/></a>"
      ]
    },
    {
      "cell_type": "code",
      "metadata": {
        "colab": {
          "base_uri": "https://localhost:8080/"
        },
        "id": "7ZJ1s5B0tETA",
        "outputId": "852719d9-d7be-488e-a487-9f4138c9091b"
      },
      "source": [
        "def sum(n):\n",
        "  if(n==1):\n",
        "    return 1\n",
        "  else:\n",
        "    return n + sum(n-1)\n",
        "\n",
        "def comp(p,n):\n",
        "  if(n==1):\n",
        "    return p*(1.1)\n",
        "  else:\n",
        "    return (comp(p,n-1))*1.1\n",
        "#p->principal,n->years,r->rate of interest\n",
        "\n",
        "def fact(n):\n",
        "  if (n==1):\n",
        "    return 1\n",
        "  else:\n",
        "    return (fact(n-1))*n\n",
        "\n",
        "print(sum(5))\n",
        "print(comp(2000,5))\n",
        "print(fact(5))"
      ],
      "execution_count": 2,
      "outputs": [
        {
          "output_type": "stream",
          "text": [
            "15\n",
            "3221.0200000000004\n",
            "120\n"
          ],
          "name": "stdout"
        }
      ]
    },
    {
      "cell_type": "code",
      "metadata": {
        "id": "yjsdCRyYu37q"
      },
      "source": [
        ""
      ],
      "execution_count": null,
      "outputs": []
    }
  ]
}