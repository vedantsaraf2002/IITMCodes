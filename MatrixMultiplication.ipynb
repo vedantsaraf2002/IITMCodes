{
  "nbformat": 4,
  "nbformat_minor": 0,
  "metadata": {
    "colab": {
      "name": "MatrixMultiplication.ipynb",
      "provenance": [],
      "authorship_tag": "ABX9TyO4Tlt1EuSb2VNnKIXsXrRu",
      "include_colab_link": true
    },
    "kernelspec": {
      "name": "python3",
      "display_name": "Python 3"
    },
    "language_info": {
      "name": "python"
    }
  },
  "cells": [
    {
      "cell_type": "markdown",
      "metadata": {
        "id": "view-in-github",
        "colab_type": "text"
      },
      "source": [
        "<a href=\"https://colab.research.google.com/github/vedantsaraf2002/IITMCodes/blob/main/MatrixMultiplication.ipynb\" target=\"_parent\"><img src=\"https://colab.research.google.com/assets/colab-badge.svg\" alt=\"Open In Colab\"/></a>"
      ]
    },
    {
      "cell_type": "markdown",
      "metadata": {
        "id": "TjDmQf-cvgNM"
      },
      "source": [
        "MATRIX MULTIPLICATION\n",
        "\n",
        "C[i][j] is the dot product of the ith row of A and the jth column of B."
      ]
    },
    {
      "cell_type": "code",
      "metadata": {
        "colab": {
          "base_uri": "https://localhost:8080/"
        },
        "id": "zd4q37Obv1QA",
        "outputId": "af6620b7-2d61-4940-bab8-a91a1a01bb92"
      },
      "source": [
        "  dim=4\n",
        "\n",
        "  r1 = [1,2,3,4]\n",
        "  r2 = [4,5,6,7]\n",
        "  r3 = [7,8,9,10]\n",
        "  r4 = [11,12,13,14]\n",
        "\n",
        "  s1 = [1,2,1,2]\n",
        "  s2 = [6,2,3,15]\n",
        "  s3 = [4,2,1,45]\n",
        "  s4 = [1,7,2,9] \n",
        "\n",
        "  A=[]\n",
        "  A.append(r1)\n",
        "  A.append(r2)\n",
        "  A.append(r3)\n",
        "  A.append(r4)\n",
        "\n",
        "  B=[]\n",
        "  B.append(s1)\n",
        "  B.append(s2)\n",
        "  B.append(s3)\n",
        "  B.append(s4)\n",
        "  \n",
        "  C=[[0,0,0,0],[0,0,0,0],[0,0,0,0],[0,0,0,0]]\n",
        "  \n",
        "  for i in range(dim):\n",
        "    for j in range(dim):\n",
        "       for k in range(dim):\n",
        "          C[i][j] = C[i][j] + A[i][k] * B[k][j]\n",
        "  print(C)"
      ],
      "execution_count": 5,
      "outputs": [
        {
          "output_type": "stream",
          "text": [
            "[[29, 40, 18, 203], [65, 79, 39, 416], [101, 118, 60, 629], [149, 170, 88, 913]]\n"
          ],
          "name": "stdout"
        }
      ]
    },
    {
      "cell_type": "markdown",
      "metadata": {
        "id": "OHv_2eTk5YK7"
      },
      "source": [
        "Shortcut of Matrix Multiplication using NUMPY"
      ]
    },
    {
      "cell_type": "code",
      "metadata": {
        "colab": {
          "base_uri": "https://localhost:8080/"
        },
        "id": "XGXORSMh4hwZ",
        "outputId": "9a3eed80-b991-4fd3-d6b2-9cd026e224db"
      },
      "source": [
        "import numpy\n",
        "X=numpy.mat(A)\n",
        "Y=numpy.mat(B)\n",
        "print(X*Y)"
      ],
      "execution_count": 8,
      "outputs": [
        {
          "output_type": "stream",
          "text": [
            "[[ 29  40  18 203]\n",
            " [ 65  79  39 416]\n",
            " [101 118  60 629]\n",
            " [149 170  88 913]]\n"
          ],
          "name": "stdout"
        }
      ]
    },
    {
      "cell_type": "code",
      "metadata": {
        "id": "xti42tg_5H77"
      },
      "source": [
        ""
      ],
      "execution_count": null,
      "outputs": []
    }
  ]
}