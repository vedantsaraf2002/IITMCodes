{
  "nbformat": 4,
  "nbformat_minor": 0,
  "metadata": {
    "colab": {
      "name": "MenuExample.ipynb",
      "provenance": [],
      "authorship_tag": "ABX9TyN1OSqZFfohKmQLQtd8X4JV",
      "include_colab_link": true
    },
    "kernelspec": {
      "name": "python3",
      "display_name": "Python 3"
    },
    "language_info": {
      "name": "python"
    }
  },
  "cells": [
    {
      "cell_type": "markdown",
      "metadata": {
        "id": "view-in-github",
        "colab_type": "text"
      },
      "source": [
        "<a href=\"https://colab.research.google.com/github/vedantsaraf2002/IITMCodes/blob/main/MenuExample.ipynb\" target=\"_parent\"><img src=\"https://colab.research.google.com/assets/colab-badge.svg\" alt=\"Open In Colab\"/></a>"
      ]
    },
    {
      "cell_type": "code",
      "metadata": {
        "colab": {
          "base_uri": "https://localhost:8080/"
        },
        "id": "jDmpZvkWVxhH",
        "outputId": "5cf4e3ed-c5f1-40f6-a4b1-26d12b059bc4"
      },
      "source": [
        "import math\n",
        "\n",
        "PI = math.pi\n",
        "def circle_area(r):\n",
        "  return(PI*r*r)\n",
        "def circle_perimeter(r):\n",
        "  return(2*PI*r)\n",
        "def rectangle_area(l,b):\n",
        "  return(l*b)\n",
        "def rectangle_perimeter(l,b):\n",
        "  return(2*(l+b))\n",
        "\n",
        "polygon = ''\n",
        "while(polygon != 'exit'):\n",
        "  print('\\nPOLYGONS\\nCircle\\nRectangle\\nexit')\n",
        "  polygon = input('Choose a right option or exit:' )\n",
        "  property = ''\n",
        "  if(polygon == 'Circle'):\n",
        "    r = float(input('\\nEnter the radius of the circle: '))\n",
        "    while(property == ''):\n",
        "      print('\\nCIRCLE PROPERTIES\\nArea\\nPerimeter\\nback')\n",
        "      property = input('\\nChoose the circle property or go back: ')\n",
        "      if(property == 'area' or property == 'Area'):\n",
        "        cArea = circle_area(r)\n",
        "        print(f'Area of circle with radius {r} = {cArea} sq. units')\n",
        "        property = ''\n",
        "      elif(property == 'perimeter' or property == 'Perimeter'):\n",
        "        cPerimeter = circle_perimeter(r)\n",
        "        print(f'Perimeter of circle with radius {r} = {cPerimeter} units')\n",
        "        property = ''\n",
        "      elif(property == 'back'):\n",
        "        break\n",
        "      else:\n",
        "        print(\"Please select the correct polygon property\")\n",
        "        property = ''\n",
        "  elif(polygon == 'Rectangle'):\n",
        "    l = float(input('\\nEnter the lenght of the rectangle: '))\n",
        "    b = float(input('\\nEnter the breadth of the rectangle: '))\n",
        "    while(property == ''):\n",
        "      print('\\nRECTANGLE PROPERTIES\\nArea\\nPerimeter\\nback')\n",
        "      property = input('\\nChoose the rectangle property or go back: ')\n",
        "      if(property == 'area' or property == 'Area'):\n",
        "        rArea = rectangle_area(l,b)\n",
        "        print(f'Area of rectangle with length {l} and breadth {b} = {rArea} sq. units')\n",
        "        property = ''\n",
        "      elif(property == 'perimeter' or property == 'Perimeter'):\n",
        "        rPerimeter = rectangle_perimeter(l,b)\n",
        "        print(f'Perimeter of rectangle with length {l} and breadth {b} = {rPerimeter} units')\n",
        "        property = ''\n",
        "      elif(property == 'back'):\n",
        "        break\n",
        "      else:\n",
        "        print(\"Please select the correct polygon property\")\n",
        "        property = ''\n",
        "  elif(polygon == 'exit'):\n",
        "    break\n",
        "  else:\n",
        "    print(\"please select a correct polygon type or exit\")\n",
        "\n"
      ],
      "execution_count": 11,
      "outputs": [
        {
          "output_type": "stream",
          "text": [
            "\n",
            "POLYGONS\n",
            "Circle\n",
            "Rectangle\n",
            "exit\n",
            "Choose a right option or exit:Circle\n",
            "\n",
            "Enter the radius of the circle: 7\n",
            "\n",
            "CIRCLE PROPERTIES\n",
            "Area\n",
            "Perimeter\n",
            "back\n",
            "\n",
            "Choose the circle property or go back: Area\n",
            "Area of circle with radius 7.0 = 153.93804002589985 sq. units\n",
            "\n",
            "CIRCLE PROPERTIES\n",
            "Area\n",
            "Perimeter\n",
            "back\n",
            "\n",
            "Choose the circle property or go back: back\n",
            "\n",
            "POLYGONS\n",
            "Circle\n",
            "Rectangle\n",
            "exit\n",
            "Choose a right option or exit:Rectangle\n",
            "\n",
            "Enter the lenght of the rectangle: 5\n",
            "\n",
            "Enter the breadth of the rectangle: 3\n",
            "\n",
            "RECTANGLE PROPERTIES\n",
            "Area\n",
            "Perimeter\n",
            "back\n",
            "\n",
            "Choose the rectangle property or go back: Perimeter\n",
            "Perimeter of rectangle with length 5.0 and breadth 3.0 = 16.0 units\n",
            "\n",
            "RECTANGLE PROPERTIES\n",
            "Area\n",
            "Perimeter\n",
            "back\n",
            "\n",
            "Choose the rectangle property or go back: back\n",
            "\n",
            "POLYGONS\n",
            "Circle\n",
            "Rectangle\n",
            "exit\n",
            "Choose a right option or exit:exit\n"
          ],
          "name": "stdout"
        }
      ]
    },
    {
      "cell_type": "code",
      "metadata": {
        "id": "11bmkIl1V4Ga"
      },
      "source": [
        ""
      ],
      "execution_count": null,
      "outputs": []
    }
  ]
}