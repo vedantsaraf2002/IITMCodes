{
  "nbformat": 4,
  "nbformat_minor": 0,
  "metadata": {
    "colab": {
      "name": "BirthdayParadox.py",
      "provenance": [],
      "authorship_tag": "ABX9TyOQuJ23Nu1QLbj4ZIpj7XDb",
      "include_colab_link": true
    },
    "kernelspec": {
      "name": "python3",
      "display_name": "Python 3"
    },
    "language_info": {
      "name": "python"
    }
  },
  "cells": [
    {
      "cell_type": "markdown",
      "metadata": {
        "id": "view-in-github",
        "colab_type": "text"
      },
      "source": [
        "<a href=\"https://colab.research.google.com/github/vedantsaraf2002/IITMCodes/blob/main/BirthdayParadox.ipynb\" target=\"_parent\"><img src=\"https://colab.research.google.com/assets/colab-badge.svg\" alt=\"Open In Colab\"/></a>"
      ]
    },
    {
      "cell_type": "code",
      "metadata": {
        "id": "lrI0imZxzcsy"
      },
      "source": [
        "import random"
      ],
      "execution_count": 1,
      "outputs": []
    },
    {
      "cell_type": "code",
      "metadata": {
        "colab": {
          "base_uri": "https://localhost:8080/"
        },
        "id": "VQg9mBqoze51",
        "outputId": "ba418b55-1703-4cbe-c383-f7a087f2c110"
      },
      "source": [
        "l=[]\n",
        "for i in range(50):\n",
        "  l.append(random.randint(1,365))\n",
        "l.sort()\n",
        "print(l)\n",
        "i=0\n",
        "flag=0\n",
        "while(i<len(l)-1):\n",
        "  if (l[i]==l[i+1]):\n",
        "    print(\"Repeats\",l[i],l[i+1])\n",
        "    flag = 1\n",
        "  i=i+1\n",
        "\n",
        "if (flag==0):\n",
        "  print(\"There is no repetition.\")\n"
      ],
      "execution_count": 5,
      "outputs": [
        {
          "output_type": "stream",
          "text": [
            "[20, 22, 34, 40, 44, 49, 53, 53, 56, 72, 75, 78, 79, 86, 90, 96, 101, 105, 107, 117, 125, 128, 131, 139, 140, 144, 153, 160, 167, 174, 178, 185, 185, 195, 218, 221, 245, 246, 271, 274, 276, 306, 313, 315, 318, 329, 337, 342, 349, 365]\n",
            "Repeats 53 53\n",
            "Repeats 185 185\n"
          ],
          "name": "stdout"
        }
      ]
    }
  ]
}
