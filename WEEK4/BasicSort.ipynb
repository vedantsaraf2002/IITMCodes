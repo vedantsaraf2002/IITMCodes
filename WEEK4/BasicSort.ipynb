{
  "nbformat": 4,
  "nbformat_minor": 0,
  "metadata": {
    "colab": {
      "name": "BasicSort.ipynb",
      "provenance": [],
      "authorship_tag": "ABX9TyOmT3TgkJtj/N0jvGadtddi",
      "include_colab_link": true
    },
    "kernelspec": {
      "name": "python3",
      "display_name": "Python 3"
    },
    "language_info": {
      "name": "python"
    }
  },
  "cells": [
    {
      "cell_type": "markdown",
      "metadata": {
        "id": "view-in-github",
        "colab_type": "text"
      },
      "source": [
        "<a href=\"https://colab.research.google.com/github/vedantsaraf2002/IITMCodes/blob/main/BasicSort.ipynb\" target=\"_parent\"><img src=\"https://colab.research.google.com/assets/colab-badge.svg\" alt=\"Open In Colab\"/></a>"
      ]
    },
    {
      "cell_type": "code",
      "metadata": {
        "colab": {
          "base_uri": "https://localhost:8080/"
        },
        "id": "oLaIwW3SPLMc",
        "outputId": "57f8abad-570b-47ba-d6f4-a4dc5f5004f9"
      },
      "source": [
        " l=[12,10,9,5,7,23]\n",
        " x=[]\n",
        " while(len(l)>0):\n",
        "   min=l[0]\n",
        "   for i in range(len(l)):\n",
        "     if l[i]<min:\n",
        "       min=l[i]\n",
        "   x.append(min)\n",
        "   l.remove(min)\n",
        "print(l)\n",
        "print(x)"
      ],
      "execution_count": 1,
      "outputs": [
        {
          "output_type": "stream",
          "text": [
            "[]\n",
            "[5, 7, 9, 10, 12, 23]\n"
          ],
          "name": "stdout"
        }
      ]
    }
  ]
}
