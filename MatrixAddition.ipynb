{
  "nbformat": 4,
  "nbformat_minor": 0,
  "metadata": {
    "colab": {
      "name": "MatrixAddition.ipynb",
      "provenance": [],
      "authorship_tag": "ABX9TyNMlJgJC6izorARcz1FAFn8",
      "include_colab_link": true
    },
    "kernelspec": {
      "name": "python3",
      "display_name": "Python 3"
    },
    "language_info": {
      "name": "python"
    }
  },
  "cells": [
    {
      "cell_type": "markdown",
      "metadata": {
        "id": "view-in-github",
        "colab_type": "text"
      },
      "source": [
        "<a href=\"https://colab.research.google.com/github/vedantsaraf2002/IITMCodes/blob/main/MatrixAddition.ipynb\" target=\"_parent\"><img src=\"https://colab.research.google.com/assets/colab-badge.svg\" alt=\"Open In Colab\"/></a>"
      ]
    },
    {
      "cell_type": "code",
      "metadata": {
        "colab": {
          "base_uri": "https://localhost:8080/"
        },
        "id": "3727HH0kYtTD",
        "outputId": "0e044e55-6238-461f-988c-0a1ef331946b"
      },
      "source": [
        "  dim=4\n",
        "\n",
        "  r1 = [1,2,3,4]\n",
        "  r2 = [4,5,6,7]\n",
        "  r3 = [7,8,9,10]\n",
        "  r4 = [11,12,13,14]\n",
        "\n",
        "  s1 = [1,2,1,2]\n",
        "  s2 = [6,2,3,15]\n",
        "  s3 = [4,2,1,45]\n",
        "  s4 = [1,7,2,9] \n",
        "\n",
        "  A=[]\n",
        "  A.append(r1)\n",
        "  A.append(r2)\n",
        "  A.append(r3)\n",
        "  A.append(r4)\n",
        "\n",
        "  B=[]\n",
        "  B.append(s1)\n",
        "  B.append(s2)\n",
        "  B.append(s3)\n",
        "  B.append(s4)\n",
        "\n",
        "  print(A)\n",
        "  print(B)\n",
        "\n",
        "  C=[[0,0,0,0],[0,0,0,0],[0,0,0,0],[0,0,0,0]]\n",
        "\n",
        "  for i in range(dim):\n",
        "    for j in range(dim):\n",
        "      C[i][j] = A[i][j] + B[i][j]\n",
        "  print(C) "
      ],
      "execution_count": 2,
      "outputs": [
        {
          "output_type": "stream",
          "text": [
            "[[1, 2, 3, 4], [4, 5, 6, 7], [7, 8, 9, 10], [11, 12, 13, 14]]\n",
            "[[1, 2, 1, 2], [6, 2, 3, 15], [4, 2, 1, 45], [1, 7, 2, 9]]\n",
            "[[2, 4, 4, 6], [10, 7, 9, 22], [11, 10, 10, 55], [12, 19, 15, 23]]\n"
          ],
          "name": "stdout"
        }
      ]
    },
    {
      "cell_type": "code",
      "metadata": {
        "id": "HoesG6BGh9D4"
      },
      "source": [
        ""
      ],
      "execution_count": null,
      "outputs": []
    }
  ]
}