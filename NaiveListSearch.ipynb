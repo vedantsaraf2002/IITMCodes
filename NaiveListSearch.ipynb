{
  "nbformat": 4,
  "nbformat_minor": 0,
  "metadata": {
    "colab": {
      "name": "NaiveListSearch.ipynb",
      "provenance": [],
      "authorship_tag": "ABX9TyPBuF9n2UCWsyB/lflV5UNc",
      "include_colab_link": true
    },
    "kernelspec": {
      "name": "python3",
      "display_name": "Python 3"
    },
    "language_info": {
      "name": "python"
    }
  },
  "cells": [
    {
      "cell_type": "markdown",
      "metadata": {
        "id": "view-in-github",
        "colab_type": "text"
      },
      "source": [
        "<a href=\"https://colab.research.google.com/github/vedantsaraf2002/IITMCodes/blob/main/NaiveListSearch.ipynb\" target=\"_parent\"><img src=\"https://colab.research.google.com/assets/colab-badge.svg\" alt=\"Open In Colab\"/></a>"
      ]
    },
    {
      "cell_type": "code",
      "metadata": {
        "id": "VcGM3FQX_75k"
      },
      "source": [
        "import random"
      ],
      "execution_count": 1,
      "outputs": []
    },
    {
      "cell_type": "code",
      "metadata": {
        "colab": {
          "base_uri": "https://localhost:8080/"
        },
        "id": "w9hh_YI_EwAl",
        "outputId": "5925c0b0-23bf-41b6-8d4e-da0a6901204a"
      },
      "source": [
        "l=[]\n",
        "for i in range(100000):\n",
        "  l.append(random.randint(1,1000000))\n",
        "n=0\n",
        "while(n>-1):\n",
        "  print('Enter a number, type -1 to exit:')\n",
        "  n=int(input())\n",
        "  flag=0\n",
        "  for i in range(len(l)):\n",
        "    if(n==l[i]):\n",
        "      print(\"element found!\")\n",
        "      flag=1\n",
        "      break\n",
        "  if(flag==0):\n",
        "    print(\"element not found\")"
      ],
      "execution_count": 5,
      "outputs": [
        {
          "output_type": "stream",
          "text": [
            "Enter a number, type -1 to exit:\n",
            "92757\n",
            "element not found\n",
            "Enter a number, type -1 to exit:\n",
            "-1\n",
            "element not found\n"
          ],
          "name": "stdout"
        }
      ]
    },
    {
      "cell_type": "code",
      "metadata": {
        "id": "5K7NED1sFWlv"
      },
      "source": [
        ""
      ],
      "execution_count": null,
      "outputs": []
    }
  ]
}